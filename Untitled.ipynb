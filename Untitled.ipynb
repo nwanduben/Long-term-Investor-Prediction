{
 "cells": [
  {
   "cell_type": "code",
   "execution_count": 1,
   "id": "f55cccee-5aac-4565-8a90-a94d895f8189",
   "metadata": {},
   "outputs": [
    {
     "name": "stdout",
     "output_type": "stream",
     "text": [
      "🔍 Available Columns in Raw Data:\n",
      "['age', 'job', 'marital', 'education', 'default', 'balance', 'housing', 'loan', 'contact', 'day', 'month', 'duration', 'campaign', 'pdays', 'previous', 'poutcome', 'deposit', 'log_balance']\n",
      "\n",
      "🔍 First 5 Rows of Data:\n",
      "   age         job  marital  education default  balance housing loan  contact  \\\n",
      "0   59      admin.  married  secondary      no     2343     yes   no  unknown   \n",
      "1   56      admin.  married  secondary      no       45      no   no  unknown   \n",
      "2   41  technician  married  secondary      no     1270     yes   no  unknown   \n",
      "3   55    services  married  secondary      no     2476     yes   no  unknown   \n",
      "4   54      admin.  married   tertiary      no      184      no   no  unknown   \n",
      "\n",
      "   day month  duration  campaign  pdays  previous poutcome deposit  \\\n",
      "0    5   may      1042         1     -1         0  unknown     yes   \n",
      "1    5   may      1467         1     -1         0  unknown     yes   \n",
      "2    5   may      1389         1     -1         0  unknown     yes   \n",
      "3    5   may       579         1     -1         0  unknown     yes   \n",
      "4    5   may       673         2     -1         0  unknown     yes   \n",
      "\n",
      "   log_balance  \n",
      "0     7.759614  \n",
      "1     3.828641  \n",
      "2     7.147559  \n",
      "3     7.814803  \n",
      "4     5.220356  \n"
     ]
    }
   ],
   "source": [
    "import pandas as pd\n",
    "\n",
    "df = pd.read_csv(\"data/raw/bank_marketing_data.csv\")\n",
    "print(\"🔍 Available Columns in Raw Data:\")\n",
    "print(df.columns.tolist())  # Print column names\n",
    "print(\"\\n🔍 First 5 Rows of Data:\")\n",
    "print(df.head())  # Show the first 5 rows\n"
   ]
  },
  {
   "cell_type": "code",
   "execution_count": 3,
   "id": "48adb073-1ed5-42e5-b59a-bb0dc7e5f33e",
   "metadata": {},
   "outputs": [],
   "source": [
    "df.drop(columns=['some_column'], inplace=True, errors='ignore')\n"
   ]
  },
  {
   "cell_type": "code",
   "execution_count": 5,
   "id": "8a7e1b77-0974-4819-94d3-dbd9c378a1f1",
   "metadata": {},
   "outputs": [
    {
     "name": "stdout",
     "output_type": "stream",
     "text": [
      "Columns Before Preprocessing: ['age', 'job', 'marital', 'education', 'default', 'balance', 'housing', 'loan', 'contact', 'day', 'month', 'duration', 'campaign', 'pdays', 'previous', 'poutcome', 'deposit', 'log_balance']\n"
     ]
    }
   ],
   "source": [
    "print(\"Columns Before Preprocessing:\", df.columns.tolist())\n"
   ]
  },
  {
   "cell_type": "code",
   "execution_count": 13,
   "id": "5849a81d-740b-40c9-b8f5-92a23ccb70d4",
   "metadata": {},
   "outputs": [
    {
     "name": "stdout",
     "output_type": "stream",
     "text": [
      "Columns After Preprocessing: ['age', 'job', 'marital', 'education', 'default', 'balance', 'housing', 'loan', 'contact', 'day', 'month', 'duration', 'campaign', 'pdays', 'previous', 'poutcome', 'deposit']\n"
     ]
    }
   ],
   "source": [
    "import pandas as pd\n",
    "\n",
    "# Load data\n",
    "df = pd.read_csv(\"data/raw/bank_marketing_data.csv\")\n",
    "\n",
    "# Drop log_balance column\n",
    "df.drop(columns=['log_balance'], inplace=True, errors='ignore')\n",
    "\n",
    "# Verify column removal\n",
    "print(\"Columns After Preprocessing:\", df.columns.tolist())\n"
   ]
  },
  {
   "cell_type": "code",
   "execution_count": 15,
   "id": "d1d08761-ac32-459b-9448-2a78a29de1e4",
   "metadata": {},
   "outputs": [
    {
     "name": "stdout",
     "output_type": "stream",
     "text": [
      "Columns After Preprocessing: ['age', 'job', 'marital', 'education', 'default', 'balance', 'housing', 'loan', 'contact', 'day', 'month', 'duration', 'campaign', 'pdays', 'previous', 'poutcome', 'deposit']\n"
     ]
    }
   ],
   "source": [
    "print(\"Columns After Preprocessing:\", df.columns.tolist())\n"
   ]
  },
  {
   "cell_type": "code",
   "execution_count": 17,
   "id": "c6662510-42b3-4b36-9a4f-61e5e89b8648",
   "metadata": {},
   "outputs": [
    {
     "name": "stdout",
     "output_type": "stream",
     "text": [
      "Columns After Preprocessing: ['age', 'default', 'balance', 'housing', 'loan', 'contact', 'day', 'month', 'duration', 'campaign', 'pdays', 'previous', 'poutcome', 'deposit', 'job_blue-collar', 'job_entrepreneur', 'job_housemaid', 'job_management', 'job_retired', 'job_self-employed', 'job_services', 'job_student', 'job_technician', 'job_unemployed', 'job_unknown', 'marital_married', 'marital_single', 'education_secondary', 'education_tertiary', 'education_unknown']\n",
      "   age default  balance housing loan  contact  day month  duration  campaign  \\\n",
      "0   59      no     2343     yes   no  unknown    5   may      1042         1   \n",
      "1   56      no       45      no   no  unknown    5   may      1467         1   \n",
      "2   41      no     1270     yes   no  unknown    5   may      1389         1   \n",
      "3   55      no     2476     yes   no  unknown    5   may       579         1   \n",
      "4   54      no      184      no   no  unknown    5   may       673         2   \n",
      "\n",
      "   ...  job_services  job_student job_technician job_unemployed  job_unknown  \\\n",
      "0  ...         False        False          False          False        False   \n",
      "1  ...         False        False          False          False        False   \n",
      "2  ...         False        False           True          False        False   \n",
      "3  ...          True        False          False          False        False   \n",
      "4  ...         False        False          False          False        False   \n",
      "\n",
      "   marital_married  marital_single  education_secondary  education_tertiary  \\\n",
      "0             True           False                 True               False   \n",
      "1             True           False                 True               False   \n",
      "2             True           False                 True               False   \n",
      "3             True           False                 True               False   \n",
      "4             True           False                False                True   \n",
      "\n",
      "   education_unknown  \n",
      "0              False  \n",
      "1              False  \n",
      "2              False  \n",
      "3              False  \n",
      "4              False  \n",
      "\n",
      "[5 rows x 30 columns]\n"
     ]
    }
   ],
   "source": [
    "df = pd.get_dummies(df, columns=['job', 'marital', 'education'], drop_first=True)\n",
    "\n",
    "# Display the new column names to verify transformations\n",
    "print(\"Columns After Preprocessing:\", df.columns.tolist())\n",
    "\n",
    "# Display the first few rows to inspect the changes\n",
    "print(df.head())"
   ]
  },
  {
   "cell_type": "code",
   "execution_count": 1,
   "id": "c7281035-7737-465c-b172-26d4e41cc861",
   "metadata": {},
   "outputs": [
    {
     "name": "stdout",
     "output_type": "stream",
     "text": [
      "['age' 'balance' 'duration' 'campaign' 'pdays' 'previous' 'default'\n",
      " 'housing' 'loan' 'job_blue-collar' 'job_entrepreneur' 'job_housemaid'\n",
      " 'job_management' 'job_retired' 'job_self-employed' 'job_services'\n",
      " 'job_student' 'job_technician' 'job_unemployed' 'job_unknown'\n",
      " 'marital_married' 'marital_single' 'education_secondary'\n",
      " 'education_tertiary' 'education_unknown' 'contact_telephone'\n",
      " 'contact_unknown' 'poutcome_other' 'poutcome_success' 'poutcome_unknown']\n"
     ]
    },
    {
     "name": "stderr",
     "output_type": "stream",
     "text": [
      "/opt/anaconda3/lib/python3.12/site-packages/sklearn/base.py:376: InconsistentVersionWarning: Trying to unpickle estimator DecisionTreeClassifier from version 1.3.2 when using version 1.4.2. This might lead to breaking code or invalid results. Use at your own risk. For more info please refer to:\n",
      "https://scikit-learn.org/stable/model_persistence.html#security-maintainability-limitations\n",
      "  warnings.warn(\n",
      "/opt/anaconda3/lib/python3.12/site-packages/sklearn/base.py:376: InconsistentVersionWarning: Trying to unpickle estimator RandomForestClassifier from version 1.3.2 when using version 1.4.2. This might lead to breaking code or invalid results. Use at your own risk. For more info please refer to:\n",
      "https://scikit-learn.org/stable/model_persistence.html#security-maintainability-limitations\n",
      "  warnings.warn(\n"
     ]
    }
   ],
   "source": [
    "\n",
    "import joblib\n",
    "model = joblib.load(\"models/random_forest.pkl\")\n",
    "print(model.feature_names_in_)"
   ]
  },
  {
   "cell_type": "code",
   "execution_count": 3,
   "id": "f668c279-1132-4e44-99dd-42a09a15a2d6",
   "metadata": {},
   "outputs": [
    {
     "name": "stderr",
     "output_type": "stream",
     "text": [
      "/opt/anaconda3/lib/python3.12/site-packages/sklearn/base.py:376: InconsistentVersionWarning: Trying to unpickle estimator DecisionTreeClassifier from version 1.3.2 when using version 1.4.2. This might lead to breaking code or invalid results. Use at your own risk. For more info please refer to:\n",
      "https://scikit-learn.org/stable/model_persistence.html#security-maintainability-limitations\n",
      "  warnings.warn(\n",
      "/opt/anaconda3/lib/python3.12/site-packages/sklearn/base.py:376: InconsistentVersionWarning: Trying to unpickle estimator RandomForestClassifier from version 1.3.2 when using version 1.4.2. This might lead to breaking code or invalid results. Use at your own risk. For more info please refer to:\n",
      "https://scikit-learn.org/stable/model_persistence.html#security-maintainability-limitations\n",
      "  warnings.warn(\n"
     ]
    },
    {
     "name": "stdout",
     "output_type": "stream",
     "text": [
      "🟢 Feature names used during model training:\n",
      "['age' 'balance' 'duration' 'campaign' 'pdays' 'previous' 'default'\n",
      " 'housing' 'loan' 'job_blue-collar' 'job_entrepreneur' 'job_housemaid'\n",
      " 'job_management' 'job_retired' 'job_self-employed' 'job_services'\n",
      " 'job_student' 'job_technician' 'job_unemployed' 'job_unknown'\n",
      " 'marital_married' 'marital_single' 'education_secondary'\n",
      " 'education_tertiary' 'education_unknown' 'contact_telephone'\n",
      " 'contact_unknown' 'poutcome_other' 'poutcome_success' 'poutcome_unknown']\n",
      "\n",
      "🔵 Feature names used in Streamlit (user input):\n",
      "Index(['age', 'default', 'balance', 'housing', 'loan', 'duration', 'campaign',\n",
      "       'pdays', 'previous', 'job_blue-collar', 'job_entrepreneur',\n",
      "       'job_housemaid', 'job_management', 'job_retired', 'job_self-employed',\n",
      "       'job_services', 'job_student', 'job_technician', 'job_unemployed',\n",
      "       'job_unknown', 'marital_married', 'marital_single',\n",
      "       'education_secondary', 'education_tertiary', 'education_unknown',\n",
      "       'contact_telephone', 'contact_unknown', 'poutcome_other',\n",
      "       'poutcome_success', 'poutcome_unknown'],\n",
      "      dtype='object')\n"
     ]
    }
   ],
   "source": [
    "import joblib\n",
    "import pandas as pd\n",
    "\n",
    "# Load trained model\n",
    "model = joblib.load(\"models/random_forest.pkl\")  # Change to your model if needed\n",
    "\n",
    "# Print the feature names used in training\n",
    "print(\"🟢 Feature names used during model training:\")\n",
    "print(model.feature_names_in_)\n",
    "\n",
    "# Load processed training data\n",
    "df = pd.read_csv(\"data/processed/bank_marketing_cleaned.csv\")\n",
    "df = df.drop(columns=[\"day\", \"month\"], errors=\"ignore\")  # Drop unnecessary features\n",
    "\n",
    "# Get Streamlit input feature order\n",
    "feature_columns = df.drop(columns=[\"deposit\"]).columns\n",
    "print(\"\\n🔵 Feature names used in Streamlit (user input):\")\n",
    "print(feature_columns)\n"
   ]
  },
  {
   "cell_type": "code",
   "execution_count": 1,
   "id": "af4b2180-58f9-420f-ab13-0344e84bb2af",
   "metadata": {},
   "outputs": [
    {
     "ename": "NameError",
     "evalue": "name 'rf_model' is not defined",
     "output_type": "error",
     "traceback": [
      "\u001b[0;31m---------------------------------------------------------------------------\u001b[0m",
      "\u001b[0;31mNameError\u001b[0m                                 Traceback (most recent call last)",
      "Cell \u001b[0;32mIn[1], line 4\u001b[0m\n\u001b[1;32m      1\u001b[0m \u001b[38;5;28;01mfrom\u001b[39;00m \u001b[38;5;21;01msklearn\u001b[39;00m\u001b[38;5;21;01m.\u001b[39;00m\u001b[38;5;21;01mmetrics\u001b[39;00m \u001b[38;5;28;01mimport\u001b[39;00m accuracy_score, classification_report\n\u001b[1;32m      2\u001b[0m \u001b[38;5;28;01mfrom\u001b[39;00m \u001b[38;5;21;01msklearn\u001b[39;00m\u001b[38;5;21;01m.\u001b[39;00m\u001b[38;5;21;01mmetrics\u001b[39;00m \u001b[38;5;28;01mimport\u001b[39;00m classification_report\n\u001b[0;32m----> 4\u001b[0m y_pred_test \u001b[38;5;241m=\u001b[39m rf_model\u001b[38;5;241m.\u001b[39mpredict(X_test)  \u001b[38;5;66;03m# or log_model, dt_model\u001b[39;00m\n\u001b[1;32m      5\u001b[0m \u001b[38;5;28mprint\u001b[39m(classification_report(y_test, y_pred_test))\n",
      "\u001b[0;31mNameError\u001b[0m: name 'rf_model' is not defined"
     ]
    }
   ],
   "source": [
    "from sklearn.metrics import accuracy_score, classification_report\n",
    "from sklearn.metrics import classification_report\n",
    "\n",
    "y_pred_test = rf_model.predict(X_test)  # or log_model, dt_model\n",
    "print(classification_report(y_test, y_pred_test))\n"
   ]
  },
  {
   "cell_type": "code",
   "execution_count": null,
   "id": "ae45ae33-5314-4c40-946f-d7739417aca0",
   "metadata": {},
   "outputs": [],
   "source": []
  }
 ],
 "metadata": {
  "kernelspec": {
   "display_name": "Python 3 (ipykernel)",
   "language": "python",
   "name": "python3"
  },
  "language_info": {
   "codemirror_mode": {
    "name": "ipython",
    "version": 3
   },
   "file_extension": ".py",
   "mimetype": "text/x-python",
   "name": "python",
   "nbconvert_exporter": "python",
   "pygments_lexer": "ipython3",
   "version": "3.12.4"
  }
 },
 "nbformat": 4,
 "nbformat_minor": 5
}
